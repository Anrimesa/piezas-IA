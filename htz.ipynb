{
 "cells": [
  {
   "cell_type": "code",
   "execution_count": 2,
   "metadata": {},
   "outputs": [
    {
     "ename": "FileNotFoundError",
     "evalue": "[WinError 2] El sistema no puede encontrar el archivo especificado: './template'",
     "output_type": "error",
     "traceback": [
      "\u001b[1;31m---------------------------------------------------------------------------\u001b[0m",
      "\u001b[1;31mFileNotFoundError\u001b[0m                         Traceback (most recent call last)",
      "Cell \u001b[1;32mIn[2], line 23\u001b[0m\n\u001b[0;32m     20\u001b[0m output_file_path \u001b[38;5;241m=\u001b[39m \u001b[38;5;124m\"\u001b[39m\u001b[38;5;124m./htz/\u001b[39m\u001b[38;5;124m\"\u001b[39m \u001b[38;5;241m+\u001b[39m \u001b[38;5;124m'\u001b[39m\u001b[38;5;124m'\u001b[39m\u001b[38;5;241m.\u001b[39mjoin(layout_name \u001b[38;5;241m+\u001b[39m \u001b[38;5;124m\"\u001b[39m\u001b[38;5;124m_\u001b[39m\u001b[38;5;124m\"\u001b[39m \u001b[38;5;241m+\u001b[39m datetime_string) \u001b[38;5;241m+\u001b[39m \u001b[38;5;124m\"\u001b[39m\u001b[38;5;124m.htz\u001b[39m\u001b[38;5;124m\"\u001b[39m\n\u001b[0;32m     22\u001b[0m \u001b[38;5;66;03m# create a zip file from the directory\u001b[39;00m\n\u001b[1;32m---> 23\u001b[0m \u001b[43mshutil\u001b[49m\u001b[38;5;241;43m.\u001b[39;49m\u001b[43mmake_archive\u001b[49m\u001b[43m(\u001b[49m\u001b[43moutput_file_path\u001b[49m\u001b[43m,\u001b[49m\u001b[43m \u001b[49m\u001b[38;5;124;43m'\u001b[39;49m\u001b[38;5;124;43mzip\u001b[39;49m\u001b[38;5;124;43m'\u001b[39;49m\u001b[43m,\u001b[49m\u001b[43m \u001b[49m\u001b[43mdir_path\u001b[49m\u001b[43m)\u001b[49m\n\u001b[0;32m     25\u001b[0m \u001b[38;5;66;03m# rename the zip file to htz\u001b[39;00m\n\u001b[0;32m     26\u001b[0m os\u001b[38;5;241m.\u001b[39mrename(\u001b[38;5;124mf\u001b[39m\u001b[38;5;124m\"\u001b[39m\u001b[38;5;132;01m{\u001b[39;00moutput_file_path\u001b[38;5;132;01m}\u001b[39;00m\u001b[38;5;124m.zip\u001b[39m\u001b[38;5;124m\"\u001b[39m, output_file_path)\n",
      "File \u001b[1;32mC:\\Program Files\\WindowsApps\\PythonSoftwareFoundation.Python.3.12_3.12.1264.0_x64__qbz5n2kfra8p0\\Lib\\shutil.py:1144\u001b[0m, in \u001b[0;36mmake_archive\u001b[1;34m(base_name, format, root_dir, base_dir, verbose, dry_run, owner, group, logger)\u001b[0m\n\u001b[0;32m   1142\u001b[0m save_cwd \u001b[38;5;241m=\u001b[39m \u001b[38;5;28;01mNone\u001b[39;00m\n\u001b[0;32m   1143\u001b[0m \u001b[38;5;28;01mif\u001b[39;00m root_dir \u001b[38;5;129;01mis\u001b[39;00m \u001b[38;5;129;01mnot\u001b[39;00m \u001b[38;5;28;01mNone\u001b[39;00m:\n\u001b[1;32m-> 1144\u001b[0m     stmd \u001b[38;5;241m=\u001b[39m \u001b[43mos\u001b[49m\u001b[38;5;241;43m.\u001b[39;49m\u001b[43mstat\u001b[49m\u001b[43m(\u001b[49m\u001b[43mroot_dir\u001b[49m\u001b[43m)\u001b[49m\u001b[38;5;241m.\u001b[39mst_mode\n\u001b[0;32m   1145\u001b[0m     \u001b[38;5;28;01mif\u001b[39;00m \u001b[38;5;129;01mnot\u001b[39;00m stat\u001b[38;5;241m.\u001b[39mS_ISDIR(stmd):\n\u001b[0;32m   1146\u001b[0m         \u001b[38;5;28;01mraise\u001b[39;00m \u001b[38;5;167;01mNotADirectoryError\u001b[39;00m(errno\u001b[38;5;241m.\u001b[39mENOTDIR, \u001b[38;5;124m'\u001b[39m\u001b[38;5;124mNot a directory\u001b[39m\u001b[38;5;124m'\u001b[39m, root_dir)\n",
      "\u001b[1;31mFileNotFoundError\u001b[0m: [WinError 2] El sistema no puede encontrar el archivo especificado: './template'"
     ]
    }
   ],
   "source": [
    "import shutil\n",
    "import os\n",
    "import datetime\n",
    "\n",
    "# specify the path to the directory you want to convert\n",
    "dir_path = \"./template\"\n",
    "\n",
    "# specify the path to the output file\n",
    "import random\n",
    "import string\n",
    "\n",
    "layout_name = \"PICO_PLACA_MEDELLÍN_MICROPLAST\"\n",
    "\n",
    "# Get the current local date and time\n",
    "current_datetime = datetime.datetime.now()\n",
    "# Format the date and time as YYYY_MM_DD_HH_MM_SS\n",
    "datetime_string = current_datetime.strftime(\"%Y%m%d_%H%M%S\")\n",
    "\n",
    "#output_file_path = \"./htz/\" + ''.join(random.choices(string.ascii_letters + string.digits, k=6)) + \".htz\"\n",
    "output_file_path = \"./htz/\" + ''.join(layout_name + \"_\" + datetime_string) + \".htz\"\n",
    "\n",
    "# create a zip file from the directory\n",
    "shutil.make_archive(output_file_path, 'zip', dir_path)\n",
    "\n",
    "# rename the zip file to htz\n",
    "os.rename(f\"{output_file_path}.zip\", output_file_path)"
   ]
  }
 ],
 "metadata": {
  "kernelspec": {
   "display_name": "Python 3",
   "language": "python",
   "name": "python3"
  },
  "language_info": {
   "codemirror_mode": {
    "name": "ipython",
    "version": 3
   },
   "file_extension": ".py",
   "mimetype": "text/x-python",
   "name": "python",
   "nbconvert_exporter": "python",
   "pygments_lexer": "ipython3",
   "version": "3.12.4"
  }
 },
 "nbformat": 4,
 "nbformat_minor": 2
}
